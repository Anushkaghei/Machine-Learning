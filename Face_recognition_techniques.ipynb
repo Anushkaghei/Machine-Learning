{
  "nbformat": 4,
  "nbformat_minor": 0,
  "metadata": {
    "colab": {
      "provenance": [],
      "include_colab_link": true
    },
    "kernelspec": {
      "name": "python3",
      "display_name": "Python 3"
    },
    "language_info": {
      "name": "python"
    }
  },
  "cells": [
    {
      "cell_type": "markdown",
      "metadata": {
        "id": "view-in-github",
        "colab_type": "text"
      },
      "source": [
        "<a href=\"https://colab.research.google.com/github/Anushkaghei/Machine-Learning/blob/main/face_recognition_techniques.ipynb\" target=\"_parent\"><img src=\"https://colab.research.google.com/assets/colab-badge.svg\" alt=\"Open In Colab\"/></a>"
      ]
    },
    {
      "cell_type": "markdown",
      "source": [
        "### Comparing accuracies provided by different techniques such as SVM , PCA and CNN for face recognition based on applications of linear algebra."
      ],
      "metadata": {
        "id": "TqXC7JYNWeXA"
      }
    },
    {
      "cell_type": "markdown",
      "source": [
        "SVM\n"
      ],
      "metadata": {
        "id": "HjcHBEU15xm-"
      }
    },
    {
      "cell_type": "code",
      "source": [
        "# Import necessary libraries\n",
        "import numpy as np\n",
        "from sklearn.svm import SVC\n",
        "from sklearn.model_selection import train_test_split\n",
        "from sklearn.metrics import accuracy_score\n",
        "from sklearn.datasets import load_iris\n",
        "\n",
        "\n",
        "# # Step 1: Data Collection\n",
        "# # Load your dataset of labeled facial images and corresponding labels\n",
        "# # X is the feature matrix, y is the label vector\n",
        "# X, y = load_data()\n",
        "\n",
        "# # Step 2: Feature Extraction\n",
        "# # Extract relevant features from the facial images\n",
        "# X_features = extract_features(X)\n",
        "\n",
        "# # Step 3: Feature Representation\n",
        "# # Represent the features in a suitable format\n",
        "# # For example, flatten the feature matrix into a vector\n",
        "# X_flat = X_features.reshape(X_features.shape[0], -1)\n",
        "\n",
        "iris = load_iris()\n",
        "X = iris.data[:, :2]  # we only take the first two features.\n",
        "y = iris.target\n",
        "\n",
        "# Step 4: Model Training\n",
        "# Split the dataset into training and testing sets\n",
        "X_train, X_test, y_train, y_test = train_test_split(X, y, test_size=0.2, random_state=42)\n",
        "\n",
        "# Initialize the SVM classifier\n",
        "svm = SVC(kernel='linear', C=1.0)\n",
        "\n",
        "# Train the SVM classifier\n",
        "svm.fit(X_train, y_train)\n",
        "\n",
        "# Step 5: Model Evaluation\n",
        "# Predict labels for the test set\n",
        "y_pred = svm.predict(X_test)\n",
        "\n",
        "# Calculate accuracy score\n",
        "accuracy = accuracy_score(y_test, y_pred)\n",
        "\n",
        "print(\"Accuracy:\", accuracy)\n"
      ],
      "metadata": {
        "id": "moO7xZGn5yuE",
        "colab": {
          "base_uri": "https://localhost:8080/"
        },
        "outputId": "0c9328da-e225-49da-ec02-d28f65cf525e"
      },
      "execution_count": null,
      "outputs": [
        {
          "output_type": "stream",
          "name": "stdout",
          "text": [
            "Accuracy: 0.9\n"
          ]
        }
      ]
    },
    {
      "cell_type": "markdown",
      "source": [
        "PCA"
      ],
      "metadata": {
        "id": "1HN0sClQ5vTY"
      }
    },
    {
      "cell_type": "code",
      "execution_count": null,
      "metadata": {
        "id": "imoCNUrG5ooe",
        "colab": {
          "base_uri": "https://localhost:8080/"
        },
        "outputId": "13a1561a-1ab7-427f-9633-29308e6d875c"
      },
      "outputs": [
        {
          "output_type": "stream",
          "name": "stdout",
          "text": [
            "Accuracy: 0.8\n"
          ]
        }
      ],
      "source": [
        "# Import necessary libraries\n",
        "import numpy as np\n",
        "from sklearn.svm import SVC\n",
        "from sklearn.model_selection import train_test_split\n",
        "from sklearn.decomposition import PCA\n",
        "from sklearn.metrics import accuracy_score\n",
        "from sklearn.datasets import load_iris\n",
        "\n",
        "# Load the Olivetti Faces dataset\n",
        "iris = load_iris()\n",
        "X = iris.data[:, :2]  # we only take the first two features.\n",
        "y = iris.target\n",
        "\n",
        "# Split the dataset into training and testing sets\n",
        "X_train, X_test, y_train, y_test = train_test_split(X, y, test_size=0.2, random_state=1)\n",
        "\n",
        "# Step 1: Feature Extraction\n",
        "# Perform Principal Component Analysis (PCA) for dimensionality reduction\n",
        "n_components = 2  # Number of principal components to keep\n",
        "pca = PCA(n_components=n_components, whiten=True, random_state=1)\n",
        "X_train_pca = pca.fit_transform(X_train)\n",
        "X_test_pca = pca.transform(X_test)\n",
        "\n",
        "# Step 2: Model Training\n",
        "# Initialize the SVM classifier\n",
        "svm = SVC(kernel='linear', C=1.0)\n",
        "\n",
        "# Train the SVM classifier\n",
        "svm.fit(X_train_pca, y_train)\n",
        "\n",
        "# Step 3: Model Evaluation\n",
        "# Predict labels for the test set\n",
        "y_pred = svm.predict(X_test_pca)\n",
        "\n",
        "# Calculate accuracy score\n",
        "accuracy = accuracy_score(y_test, y_pred)\n",
        "\n",
        "print(\"Accuracy:\", accuracy)\n"
      ]
    },
    {
      "cell_type": "markdown",
      "source": [
        "CNN"
      ],
      "metadata": {
        "id": "0L8ADvS4F6Km"
      }
    },
    {
      "cell_type": "code",
      "source": [
        "import numpy as np\n",
        "\n",
        "from sklearn.datasets import load_iris\n",
        "from sklearn.model_selection import train_test_split\n",
        "from sklearn.preprocessing import OneHotEncoder\n",
        "\n",
        "from keras.models import Sequential\n",
        "from keras.layers import Dense\n",
        "from keras.optimizers import Adam\n",
        "\n",
        "iris_data = load_iris() # load the iris dataset\n",
        "\n",
        "print('Example data: ')\n",
        "print(iris_data.data[:5])\n",
        "print('Example labels: ')\n",
        "print(iris_data.target[:5])\n",
        "\n",
        "x = iris_data.data\n",
        "y_ = iris_data.target.reshape(-1, 1) # Convert data to a single column\n",
        "\n",
        "# One Hot encode the class labels\n",
        "encoder = OneHotEncoder(sparse=False)\n",
        "y = encoder.fit_transform(y_)\n",
        "#print(y)\n",
        "\n",
        "# Split the data for training and testing\n",
        "train_x, test_x, train_y, test_y = train_test_split(x, y, test_size=0.20)\n",
        "\n",
        "# Build the model\n",
        "\n",
        "model = Sequential()\n",
        "\n",
        "model.add(Dense(10, input_shape=(4,), activation='relu', name='fc1'))\n",
        "model.add(Dense(10, activation='relu', name='fc2'))\n",
        "model.add(Dense(3, activation='softmax', name='output'))\n",
        "\n",
        "# Adam optimizer with learning rate of 0.001\n",
        "optimizer = Adam(lr=0.001)\n",
        "model.compile(optimizer, loss='categorical_crossentropy', metrics=['accuracy'])\n",
        "\n",
        "print('Neural Network Model Summary: ')\n",
        "print(model.summary())\n",
        "\n",
        "# Train the model\n",
        "model.fit(train_x, train_y, verbose=2, batch_size=5, epochs=10)\n",
        "\n",
        "# Test on unseen data\n",
        "\n",
        "results = model.evaluate(test_x, test_y)\n",
        "\n",
        "print('Final test set loss: {:4f}'.format(results[0]))\n",
        "print('Final test set accuracy: {:4f}'.format(results[1]))"
      ],
      "metadata": {
        "colab": {
          "base_uri": "https://localhost:8080/"
        },
        "id": "UH9OsmCvJZeO",
        "outputId": "b038d20b-ccd9-4239-862a-769468dafe93"
      },
      "execution_count": null,
      "outputs": [
        {
          "output_type": "stream",
          "name": "stdout",
          "text": [
            "Example data: \n",
            "[[5.1 3.5 1.4 0.2]\n",
            " [4.9 3.  1.4 0.2]\n",
            " [4.7 3.2 1.3 0.2]\n",
            " [4.6 3.1 1.5 0.2]\n",
            " [5.  3.6 1.4 0.2]]\n",
            "Example labels: \n",
            "[0 0 0 0 0]\n",
            "Neural Network Model Summary: \n",
            "Model: \"sequential_2\"\n",
            "_________________________________________________________________\n",
            " Layer (type)                Output Shape              Param #   \n",
            "=================================================================\n",
            " fc1 (Dense)                 (None, 10)                50        \n",
            "                                                                 \n",
            " fc2 (Dense)                 (None, 10)                110       \n",
            "                                                                 \n",
            " output (Dense)              (None, 3)                 33        \n",
            "                                                                 \n",
            "=================================================================\n",
            "Total params: 193\n",
            "Trainable params: 193\n",
            "Non-trainable params: 0\n",
            "_________________________________________________________________\n",
            "None\n",
            "Epoch 1/10\n"
          ]
        },
        {
          "output_type": "stream",
          "name": "stderr",
          "text": [
            "/usr/local/lib/python3.9/dist-packages/sklearn/preprocessing/_encoders.py:868: FutureWarning: `sparse` was renamed to `sparse_output` in version 1.2 and will be removed in 1.4. `sparse_output` is ignored unless you leave `sparse` to its default value.\n",
            "  warnings.warn(\n",
            "/usr/local/lib/python3.9/dist-packages/keras/optimizers/legacy/adam.py:117: UserWarning: The `lr` argument is deprecated, use `learning_rate` instead.\n",
            "  super().__init__(name, **kwargs)\n"
          ]
        },
        {
          "output_type": "stream",
          "name": "stdout",
          "text": [
            "24/24 - 1s - loss: 1.1728 - accuracy: 0.3250 - 649ms/epoch - 27ms/step\n",
            "Epoch 2/10\n",
            "24/24 - 0s - loss: 0.9865 - accuracy: 0.3500 - 50ms/epoch - 2ms/step\n",
            "Epoch 3/10\n",
            "24/24 - 0s - loss: 0.9136 - accuracy: 0.3667 - 49ms/epoch - 2ms/step\n",
            "Epoch 4/10\n",
            "24/24 - 0s - loss: 0.8498 - accuracy: 0.3333 - 51ms/epoch - 2ms/step\n",
            "Epoch 5/10\n",
            "24/24 - 0s - loss: 0.7980 - accuracy: 0.5750 - 59ms/epoch - 2ms/step\n",
            "Epoch 6/10\n",
            "24/24 - 0s - loss: 0.7590 - accuracy: 0.6833 - 57ms/epoch - 2ms/step\n",
            "Epoch 7/10\n",
            "24/24 - 0s - loss: 0.7125 - accuracy: 0.7083 - 59ms/epoch - 2ms/step\n",
            "Epoch 8/10\n",
            "24/24 - 0s - loss: 0.6719 - accuracy: 0.7500 - 56ms/epoch - 2ms/step\n",
            "Epoch 9/10\n",
            "24/24 - 0s - loss: 0.6305 - accuracy: 0.7250 - 59ms/epoch - 2ms/step\n",
            "Epoch 10/10\n",
            "24/24 - 0s - loss: 0.5857 - accuracy: 0.7833 - 61ms/epoch - 3ms/step\n",
            "1/1 [==============================] - 0s 205ms/step - loss: 0.5840 - accuracy: 0.7000\n",
            "Final test set loss: 0.583998\n",
            "Final test set accuracy: 0.700000\n"
          ]
        }
      ]
    }
  ]
}
