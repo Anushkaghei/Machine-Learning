{
  "nbformat": 4,
  "nbformat_minor": 0,
  "metadata": {
    "colab": {
      "provenance": [],
      "authorship_tag": "ABX9TyNAf9z0l3kI9DytB+50Suii",
      "include_colab_link": true
    },
    "kernelspec": {
      "name": "python3",
      "display_name": "Python 3"
    },
    "language_info": {
      "name": "python"
    }
  },
  "cells": [
    {
      "cell_type": "markdown",
      "metadata": {
        "id": "view-in-github",
        "colab_type": "text"
      },
      "source": [
        "<a href=\"https://colab.research.google.com/github/Anushkaghei/Machine-Learning/blob/main/agribot.ipynb\" target=\"_parent\"><img src=\"https://colab.research.google.com/assets/colab-badge.svg\" alt=\"Open In Colab\"/></a>"
      ]
    },
    {
      "cell_type": "code",
      "execution_count": null,
      "metadata": {
        "colab": {
          "base_uri": "https://localhost:8080/"
        },
        "id": "G1evDUpvIh11",
        "outputId": "22707324-3932-4dad-8184-3155e7484f07"
      },
      "outputs": [
        {
          "output_type": "stream",
          "name": "stdout",
          "text": [
            "      temperature   humidity   label\n",
            "0       20.879744  82.002744    rice\n",
            "1       21.770462  80.319644    rice\n",
            "2       23.004459  82.320763    rice\n",
            "3       26.491096  80.158363    rice\n",
            "4       20.130175  81.604873    rice\n",
            "...           ...        ...     ...\n",
            "1195    26.774637  66.413269  coffee\n",
            "1196    27.417112  56.636362  coffee\n",
            "1197    24.131797  67.225123  coffee\n",
            "1198    26.272418  52.127394  coffee\n",
            "1199    23.603016  60.396475  coffee\n",
            "\n",
            "[1200 rows x 3 columns]\n"
          ]
        }
      ],
      "source": [
        "import numpy as np\n",
        "import matplotlib.pyplot as plt\n",
        "import pandas as pd\n",
        "dataset = pd.read_csv('Crop_recommendation.csv')\n",
        "X = dataset.iloc[:,:2].values\n",
        "y = dataset['label'].values\n",
        "print(dataset)"
      ]
    },
    {
      "cell_type": "code",
      "source": [
        "from sklearn.model_selection import train_test_split\n",
        "X_train, X_test, y_train, y_test = train_test_split(X, y, test_size = 0.20)\n",
        "#20% of dataset used as test set and 80% as training"
      ],
      "metadata": {
        "id": "mvy-_47ZInIO"
      },
      "execution_count": null,
      "outputs": []
    },
    {
      "cell_type": "code",
      "source": [
        "from sklearn.preprocessing import StandardScaler\n",
        "sc = StandardScaler()\n",
        "#values of test and train scaled down to smaller values for faster processing speed\n",
        "X_train = sc.fit_transform(X_train)\n",
        "X_test = sc.transform(X_test)"
      ],
      "metadata": {
        "id": "g7ZtsqqfIwCP"
      },
      "execution_count": null,
      "outputs": []
    },
    {
      "cell_type": "code",
      "source": [
        "from sklearn.naive_bayes import GaussianNB\n",
        "classifier = GaussianNB()\n",
        "classifier.fit(X_train, y_train)\n",
        "y_pred = classifier.predict(X_test)\n",
        "print(y_pred)"
      ],
      "metadata": {
        "colab": {
          "base_uri": "https://localhost:8080/"
        },
        "id": "dQnPWUTuIw8l",
        "outputId": "4dc1eff7-5df6-4539-c207-21e9d4f0b0ff"
      },
      "execution_count": null,
      "outputs": [
        {
          "output_type": "stream",
          "name": "stdout",
          "text": [
            "['cotton' 'coconut' 'kidneybeans' 'chickpea' 'coffee' 'mango' 'coconut'\n",
            " 'cotton' 'coconut' 'chickpea' 'kidneybeans' 'chickpea' 'cotton' 'maize'\n",
            " 'grapes' 'mango' 'coffee' 'banana' 'grapes' 'banana' 'grapes' 'blackgram'\n",
            " 'blackgram' 'chickpea' 'chickpea' 'cotton' 'cotton' 'lentil' 'coconut'\n",
            " 'mango' 'coffee' 'lentil' 'chickpea' 'mango' 'lentil' 'chickpea'\n",
            " 'coconut' 'maize' 'rice' 'grapes' 'coconut' 'rice' 'coffee' 'cotton'\n",
            " 'maize' 'rice' 'blackgram' 'coffee' 'grapes' 'mango' 'kidneybeans'\n",
            " 'lentil' 'rice' 'rice' 'cotton' 'banana' 'kidneybeans' 'coffee' 'banana'\n",
            " 'blackgram' 'kidneybeans' 'banana' 'banana' 'mango' 'maize' 'coffee'\n",
            " 'chickpea' 'maize' 'coffee' 'blackgram' 'lentil' 'grapes' 'chickpea'\n",
            " 'chickpea' 'coconut' 'rice' 'blackgram' 'maize' 'rice' 'kidneybeans'\n",
            " 'lentil' 'chickpea' 'maize' 'maize' 'kidneybeans' 'maize' 'mango' 'maize'\n",
            " 'kidneybeans' 'chickpea' 'blackgram' 'maize' 'grapes' 'banana' 'maize'\n",
            " 'grapes' 'coffee' 'maize' 'rice' 'coconut' 'chickpea' 'mango' 'coconut'\n",
            " 'lentil' 'lentil' 'chickpea' 'coconut' 'mango' 'rice' 'coconut' 'cotton'\n",
            " 'blackgram' 'coffee' 'lentil' 'coffee' 'maize' 'grapes' 'banana' 'cotton'\n",
            " 'cotton' 'cotton' 'chickpea' 'lentil' 'mango' 'coffee' 'mango'\n",
            " 'kidneybeans' 'maize' 'rice' 'maize' 'kidneybeans' 'lentil' 'banana'\n",
            " 'rice' 'banana' 'grapes' 'maize' 'rice' 'banana' 'chickpea' 'rice' 'rice'\n",
            " 'mango' 'coconut' 'rice' 'kidneybeans' 'grapes' 'rice' 'rice' 'maize'\n",
            " 'grapes' 'rice' 'maize' 'coffee' 'lentil' 'cotton' 'mango' 'rice'\n",
            " 'coconut' 'coconut' 'cotton' 'lentil' 'rice' 'coconut' 'lentil' 'mango'\n",
            " 'chickpea' 'banana' 'blackgram' 'chickpea' 'grapes' 'mango' 'cotton'\n",
            " 'rice' 'rice' 'chickpea' 'coffee' 'rice' 'maize' 'banana' 'coffee'\n",
            " 'banana' 'coconut' 'kidneybeans' 'maize' 'blackgram' 'coffee' 'blackgram'\n",
            " 'mango' 'coconut' 'blackgram' 'grapes' 'maize' 'banana' 'chickpea'\n",
            " 'coffee' 'coconut' 'mango' 'cotton' 'kidneybeans' 'banana' 'banana'\n",
            " 'grapes' 'cotton' 'kidneybeans' 'cotton' 'banana' 'coconut' 'kidneybeans'\n",
            " 'rice' 'blackgram' 'kidneybeans' 'blackgram' 'grapes' 'maize' 'banana'\n",
            " 'banana' 'maize' 'cotton' 'lentil' 'lentil' 'lentil' 'coffee' 'rice'\n",
            " 'grapes' 'banana' 'grapes' 'lentil' 'banana' 'blackgram' 'cotton'\n",
            " 'cotton' 'blackgram' 'mango' 'blackgram' 'rice' 'grapes' 'banana'\n",
            " 'kidneybeans' 'grapes']\n"
          ]
        }
      ]
    },
    {
      "cell_type": "code",
      "source": [
        "from sklearn.metrics import confusion_matrix\n",
        "cm = confusion_matrix(y_test, y_pred)\n",
        "from sklearn.metrics import accuracy_score \n",
        "print (\"Accuracy : \", ((accuracy_score(y_test, y_pred)*100)))"
      ],
      "metadata": {
        "colab": {
          "base_uri": "https://localhost:8080/"
        },
        "id": "F9jpf-E4I2Vv",
        "outputId": "e6cefd28-9979-49f5-eb21-f1e96dc68adc"
      },
      "execution_count": null,
      "outputs": [
        {
          "output_type": "stream",
          "name": "stdout",
          "text": [
            "Accuracy :  73.33333333333333\n"
          ]
        }
      ]
    },
    {
      "cell_type": "code",
      "source": [
        "df = pd.DataFrame({'Real Values':y_test, 'Predicted Values':y_pred})\n",
        "print(df)"
      ],
      "metadata": {
        "colab": {
          "base_uri": "https://localhost:8080/"
        },
        "id": "rl5WewL8I43X",
        "outputId": "4439c976-7ec2-49f1-a7dd-2ddbf3a408a2"
      },
      "execution_count": null,
      "outputs": [
        {
          "output_type": "stream",
          "name": "stdout",
          "text": [
            "     Real Values Predicted Values\n",
            "0         cotton           cotton\n",
            "1        coconut          coconut\n",
            "2    kidneybeans      kidneybeans\n",
            "3       chickpea         chickpea\n",
            "4         coffee           coffee\n",
            "..           ...              ...\n",
            "235         rice             rice\n",
            "236       grapes           grapes\n",
            "237       banana           banana\n",
            "238  kidneybeans      kidneybeans\n",
            "239       grapes           grapes\n",
            "\n",
            "[240 rows x 2 columns]\n"
          ]
        }
      ]
    },
    {
      "cell_type": "code",
      "source": [
        "new_input = [[2.12309797, -1.41131072]]\n",
        "new_output= classifier.predict(new_input)\n",
        "print(new_input,new_output)"
      ],
      "metadata": {
        "colab": {
          "base_uri": "https://localhost:8080/"
        },
        "id": "ZbQ2m_zlI7VY",
        "outputId": "263a534f-8f7f-4e41-9be8-c358264b42b9"
      },
      "execution_count": null,
      "outputs": [
        {
          "output_type": "stream",
          "name": "stdout",
          "text": [
            "[[2.12309797, -1.41131072]] ['kidneybeans']\n"
          ]
        }
      ]
    }
  ]
}
