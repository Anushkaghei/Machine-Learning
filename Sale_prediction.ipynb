{
  "nbformat": 4,
  "nbformat_minor": 0,
  "metadata": {
    "colab": {
      "provenance": [],
      "authorship_tag": "ABX9TyN1FemHRNFUnnsN9LraGRIx",
      "include_colab_link": true
    },
    "kernelspec": {
      "name": "python3",
      "display_name": "Python 3"
    },
    "language_info": {
      "name": "python"
    }
  },
  "cells": [
    {
      "cell_type": "markdown",
      "metadata": {
        "id": "view-in-github",
        "colab_type": "text"
      },
      "source": [
        "<a href=\"https://colab.research.google.com/github/Anushkaghei/Machine-Learning/blob/main/Sale_prediction.ipynb\" target=\"_parent\"><img src=\"https://colab.research.google.com/assets/colab-badge.svg\" alt=\"Open In Colab\"/></a>"
      ]
    },
    {
      "cell_type": "markdown",
      "source": [
        "Advertisement Sale prediction from an existing customer using LOGISTIC REGRESSION\n"
      ],
      "metadata": {
        "id": "4LqR8wiS9k56"
      }
    },
    {
      "cell_type": "code",
      "execution_count": 2,
      "metadata": {
        "id": "s4-lKHr-7Oa2"
      },
      "outputs": [],
      "source": [
        "import pandas as pd"
      ]
    },
    {
      "cell_type": "code",
      "source": [
        "from google.colab import files\n",
        "uploaded = files.upload()"
      ],
      "metadata": {
        "colab": {
          "base_uri": "https://localhost:8080/",
          "height": 73
        },
        "id": "5fPk-Lyh_c0e",
        "outputId": "3aaea694-9343-4e0a-c5e7-15fb5c885d86"
      },
      "execution_count": 3,
      "outputs": [
        {
          "output_type": "display_data",
          "data": {
            "text/plain": [
              "<IPython.core.display.HTML object>"
            ],
            "text/html": [
              "\n",
              "     <input type=\"file\" id=\"files-c49c9e3c-f2ab-475a-83fd-5a3e03a896dc\" name=\"files[]\" multiple disabled\n",
              "        style=\"border:none\" />\n",
              "     <output id=\"result-c49c9e3c-f2ab-475a-83fd-5a3e03a896dc\">\n",
              "      Upload widget is only available when the cell has been executed in the\n",
              "      current browser session. Please rerun this cell to enable.\n",
              "      </output>\n",
              "      <script>// Copyright 2017 Google LLC\n",
              "//\n",
              "// Licensed under the Apache License, Version 2.0 (the \"License\");\n",
              "// you may not use this file except in compliance with the License.\n",
              "// You may obtain a copy of the License at\n",
              "//\n",
              "//      http://www.apache.org/licenses/LICENSE-2.0\n",
              "//\n",
              "// Unless required by applicable law or agreed to in writing, software\n",
              "// distributed under the License is distributed on an \"AS IS\" BASIS,\n",
              "// WITHOUT WARRANTIES OR CONDITIONS OF ANY KIND, either express or implied.\n",
              "// See the License for the specific language governing permissions and\n",
              "// limitations under the License.\n",
              "\n",
              "/**\n",
              " * @fileoverview Helpers for google.colab Python module.\n",
              " */\n",
              "(function(scope) {\n",
              "function span(text, styleAttributes = {}) {\n",
              "  const element = document.createElement('span');\n",
              "  element.textContent = text;\n",
              "  for (const key of Object.keys(styleAttributes)) {\n",
              "    element.style[key] = styleAttributes[key];\n",
              "  }\n",
              "  return element;\n",
              "}\n",
              "\n",
              "// Max number of bytes which will be uploaded at a time.\n",
              "const MAX_PAYLOAD_SIZE = 100 * 1024;\n",
              "\n",
              "function _uploadFiles(inputId, outputId) {\n",
              "  const steps = uploadFilesStep(inputId, outputId);\n",
              "  const outputElement = document.getElementById(outputId);\n",
              "  // Cache steps on the outputElement to make it available for the next call\n",
              "  // to uploadFilesContinue from Python.\n",
              "  outputElement.steps = steps;\n",
              "\n",
              "  return _uploadFilesContinue(outputId);\n",
              "}\n",
              "\n",
              "// This is roughly an async generator (not supported in the browser yet),\n",
              "// where there are multiple asynchronous steps and the Python side is going\n",
              "// to poll for completion of each step.\n",
              "// This uses a Promise to block the python side on completion of each step,\n",
              "// then passes the result of the previous step as the input to the next step.\n",
              "function _uploadFilesContinue(outputId) {\n",
              "  const outputElement = document.getElementById(outputId);\n",
              "  const steps = outputElement.steps;\n",
              "\n",
              "  const next = steps.next(outputElement.lastPromiseValue);\n",
              "  return Promise.resolve(next.value.promise).then((value) => {\n",
              "    // Cache the last promise value to make it available to the next\n",
              "    // step of the generator.\n",
              "    outputElement.lastPromiseValue = value;\n",
              "    return next.value.response;\n",
              "  });\n",
              "}\n",
              "\n",
              "/**\n",
              " * Generator function which is called between each async step of the upload\n",
              " * process.\n",
              " * @param {string} inputId Element ID of the input file picker element.\n",
              " * @param {string} outputId Element ID of the output display.\n",
              " * @return {!Iterable<!Object>} Iterable of next steps.\n",
              " */\n",
              "function* uploadFilesStep(inputId, outputId) {\n",
              "  const inputElement = document.getElementById(inputId);\n",
              "  inputElement.disabled = false;\n",
              "\n",
              "  const outputElement = document.getElementById(outputId);\n",
              "  outputElement.innerHTML = '';\n",
              "\n",
              "  const pickedPromise = new Promise((resolve) => {\n",
              "    inputElement.addEventListener('change', (e) => {\n",
              "      resolve(e.target.files);\n",
              "    });\n",
              "  });\n",
              "\n",
              "  const cancel = document.createElement('button');\n",
              "  inputElement.parentElement.appendChild(cancel);\n",
              "  cancel.textContent = 'Cancel upload';\n",
              "  const cancelPromise = new Promise((resolve) => {\n",
              "    cancel.onclick = () => {\n",
              "      resolve(null);\n",
              "    };\n",
              "  });\n",
              "\n",
              "  // Wait for the user to pick the files.\n",
              "  const files = yield {\n",
              "    promise: Promise.race([pickedPromise, cancelPromise]),\n",
              "    response: {\n",
              "      action: 'starting',\n",
              "    }\n",
              "  };\n",
              "\n",
              "  cancel.remove();\n",
              "\n",
              "  // Disable the input element since further picks are not allowed.\n",
              "  inputElement.disabled = true;\n",
              "\n",
              "  if (!files) {\n",
              "    return {\n",
              "      response: {\n",
              "        action: 'complete',\n",
              "      }\n",
              "    };\n",
              "  }\n",
              "\n",
              "  for (const file of files) {\n",
              "    const li = document.createElement('li');\n",
              "    li.append(span(file.name, {fontWeight: 'bold'}));\n",
              "    li.append(span(\n",
              "        `(${file.type || 'n/a'}) - ${file.size} bytes, ` +\n",
              "        `last modified: ${\n",
              "            file.lastModifiedDate ? file.lastModifiedDate.toLocaleDateString() :\n",
              "                                    'n/a'} - `));\n",
              "    const percent = span('0% done');\n",
              "    li.appendChild(percent);\n",
              "\n",
              "    outputElement.appendChild(li);\n",
              "\n",
              "    const fileDataPromise = new Promise((resolve) => {\n",
              "      const reader = new FileReader();\n",
              "      reader.onload = (e) => {\n",
              "        resolve(e.target.result);\n",
              "      };\n",
              "      reader.readAsArrayBuffer(file);\n",
              "    });\n",
              "    // Wait for the data to be ready.\n",
              "    let fileData = yield {\n",
              "      promise: fileDataPromise,\n",
              "      response: {\n",
              "        action: 'continue',\n",
              "      }\n",
              "    };\n",
              "\n",
              "    // Use a chunked sending to avoid message size limits. See b/62115660.\n",
              "    let position = 0;\n",
              "    do {\n",
              "      const length = Math.min(fileData.byteLength - position, MAX_PAYLOAD_SIZE);\n",
              "      const chunk = new Uint8Array(fileData, position, length);\n",
              "      position += length;\n",
              "\n",
              "      const base64 = btoa(String.fromCharCode.apply(null, chunk));\n",
              "      yield {\n",
              "        response: {\n",
              "          action: 'append',\n",
              "          file: file.name,\n",
              "          data: base64,\n",
              "        },\n",
              "      };\n",
              "\n",
              "      let percentDone = fileData.byteLength === 0 ?\n",
              "          100 :\n",
              "          Math.round((position / fileData.byteLength) * 100);\n",
              "      percent.textContent = `${percentDone}% done`;\n",
              "\n",
              "    } while (position < fileData.byteLength);\n",
              "  }\n",
              "\n",
              "  // All done.\n",
              "  yield {\n",
              "    response: {\n",
              "      action: 'complete',\n",
              "    }\n",
              "  };\n",
              "}\n",
              "\n",
              "scope.google = scope.google || {};\n",
              "scope.google.colab = scope.google.colab || {};\n",
              "scope.google.colab._files = {\n",
              "  _uploadFiles,\n",
              "  _uploadFilesContinue,\n",
              "};\n",
              "})(self);\n",
              "</script> "
            ]
          },
          "metadata": {}
        },
        {
          "output_type": "stream",
          "name": "stdout",
          "text": [
            "Saving DigitalAd_dataset.csv to DigitalAd_dataset.csv\n"
          ]
        }
      ]
    },
    {
      "cell_type": "code",
      "source": [
        "dataset=pd.read_csv('DigitalAd_dataset.csv')\n",
        "print (dataset)"
      ],
      "metadata": {
        "colab": {
          "base_uri": "https://localhost:8080/"
        },
        "id": "8Y6pfaKL_mIj",
        "outputId": "15d7bb28-594e-4a21-adc2-6ec11aaa0593"
      },
      "execution_count": 4,
      "outputs": [
        {
          "output_type": "stream",
          "name": "stdout",
          "text": [
            "     Age  Salary  Status\n",
            "0     18   82000       0\n",
            "1     29   80000       0\n",
            "2     47   25000       1\n",
            "3     45   26000       1\n",
            "4     46   28000       1\n",
            "..   ...     ...     ...\n",
            "395   35   65000       0\n",
            "396   26   80000       0\n",
            "397   26   52000       0\n",
            "398   20   86000       0\n",
            "399   32   18000       0\n",
            "\n",
            "[400 rows x 3 columns]\n"
          ]
        }
      ]
    },
    {
      "cell_type": "code",
      "source": [
        "print(dataset.shape)"
      ],
      "metadata": {
        "colab": {
          "base_uri": "https://localhost:8080/"
        },
        "id": "-oufIa25_waC",
        "outputId": "1aed1b84-3440-4a84-bb99-8dd48b936ca7"
      },
      "execution_count": 5,
      "outputs": [
        {
          "output_type": "stream",
          "name": "stdout",
          "text": [
            "(400, 3)\n"
          ]
        }
      ]
    },
    {
      "cell_type": "code",
      "source": [
        "#input/independent variables\n",
        "X= dataset.iloc[:,:-1].values\n",
        "X"
      ],
      "metadata": {
        "colab": {
          "base_uri": "https://localhost:8080/"
        },
        "id": "WnrnoOpb_yCU",
        "outputId": "0a885203-d871-4199-f156-363cc9f80099"
      },
      "execution_count": 6,
      "outputs": [
        {
          "output_type": "execute_result",
          "data": {
            "text/plain": [
              "array([[    18,  82000],\n",
              "       [    29,  80000],\n",
              "       [    47,  25000],\n",
              "       [    45,  26000],\n",
              "       [    46,  28000],\n",
              "       [    48,  29000],\n",
              "       [    45,  22000],\n",
              "       [    47,  49000],\n",
              "       [    48,  41000],\n",
              "       [    45,  22000],\n",
              "       [    46,  23000],\n",
              "       [    47,  20000],\n",
              "       [    49,  28000],\n",
              "       [    47,  30000],\n",
              "       [    29,  43000],\n",
              "       [    31,  18000],\n",
              "       [    31,  74000],\n",
              "       [    27, 137000],\n",
              "       [    21,  16000],\n",
              "       [    28,  44000],\n",
              "       [    27,  90000],\n",
              "       [    35,  27000],\n",
              "       [    33,  28000],\n",
              "       [    30,  49000],\n",
              "       [    26,  72000],\n",
              "       [    27,  31000],\n",
              "       [    27,  17000],\n",
              "       [    33,  51000],\n",
              "       [    35, 108000],\n",
              "       [    30,  15000],\n",
              "       [    28,  84000],\n",
              "       [    23,  20000],\n",
              "       [    25,  79000],\n",
              "       [    27,  54000],\n",
              "       [    30, 135000],\n",
              "       [    31,  89000],\n",
              "       [    24,  32000],\n",
              "       [    18,  44000],\n",
              "       [    29,  83000],\n",
              "       [    35,  23000],\n",
              "       [    27,  58000],\n",
              "       [    24,  55000],\n",
              "       [    23,  48000],\n",
              "       [    28,  79000],\n",
              "       [    22,  18000],\n",
              "       [    32, 117000],\n",
              "       [    27,  20000],\n",
              "       [    25,  87000],\n",
              "       [    23,  66000],\n",
              "       [    32, 120000],\n",
              "       [    59,  83000],\n",
              "       [    24,  58000],\n",
              "       [    24,  19000],\n",
              "       [    23,  82000],\n",
              "       [    22,  63000],\n",
              "       [    31,  68000],\n",
              "       [    25,  80000],\n",
              "       [    24,  27000],\n",
              "       [    20,  23000],\n",
              "       [    33, 113000],\n",
              "       [    32,  18000],\n",
              "       [    34, 112000],\n",
              "       [    18,  52000],\n",
              "       [    22,  27000],\n",
              "       [    28,  87000],\n",
              "       [    26,  17000],\n",
              "       [    30,  80000],\n",
              "       [    39,  42000],\n",
              "       [    20,  49000],\n",
              "       [    35,  88000],\n",
              "       [    30,  62000],\n",
              "       [    31, 118000],\n",
              "       [    24,  55000],\n",
              "       [    28,  85000],\n",
              "       [    26,  81000],\n",
              "       [    35,  50000],\n",
              "       [    22,  81000],\n",
              "       [    30, 116000],\n",
              "       [    26,  15000],\n",
              "       [    29,  28000],\n",
              "       [    29,  83000],\n",
              "       [    35,  44000],\n",
              "       [    35,  25000],\n",
              "       [    28, 123000],\n",
              "       [    35,  73000],\n",
              "       [    28,  37000],\n",
              "       [    27,  88000],\n",
              "       [    28,  59000],\n",
              "       [    32,  86000],\n",
              "       [    33, 149000],\n",
              "       [    19,  21000],\n",
              "       [    21,  72000],\n",
              "       [    26,  35000],\n",
              "       [    27,  89000],\n",
              "       [    26,  86000],\n",
              "       [    38,  80000],\n",
              "       [    39,  71000],\n",
              "       [    37,  71000],\n",
              "       [    38,  61000],\n",
              "       [    37,  55000],\n",
              "       [    42,  80000],\n",
              "       [    40,  57000],\n",
              "       [    35,  75000],\n",
              "       [    36,  52000],\n",
              "       [    40,  59000],\n",
              "       [    41,  59000],\n",
              "       [    36,  75000],\n",
              "       [    37,  72000],\n",
              "       [    40,  75000],\n",
              "       [    35,  53000],\n",
              "       [    41,  51000],\n",
              "       [    39,  61000],\n",
              "       [    42,  65000],\n",
              "       [    26,  32000],\n",
              "       [    30,  17000],\n",
              "       [    26,  84000],\n",
              "       [    31,  58000],\n",
              "       [    33,  31000],\n",
              "       [    30,  87000],\n",
              "       [    21,  68000],\n",
              "       [    28,  55000],\n",
              "       [    23,  63000],\n",
              "       [    20,  82000],\n",
              "       [    30, 107000],\n",
              "       [    28,  59000],\n",
              "       [    19,  25000],\n",
              "       [    19,  85000],\n",
              "       [    18,  68000],\n",
              "       [    35,  59000],\n",
              "       [    30,  89000],\n",
              "       [    34,  25000],\n",
              "       [    24,  89000],\n",
              "       [    27,  96000],\n",
              "       [    41,  30000],\n",
              "       [    29,  61000],\n",
              "       [    20,  74000],\n",
              "       [    26,  15000],\n",
              "       [    41,  45000],\n",
              "       [    31,  76000],\n",
              "       [    36,  50000],\n",
              "       [    40,  47000],\n",
              "       [    31,  15000],\n",
              "       [    46,  59000],\n",
              "       [    29,  75000],\n",
              "       [    26,  30000],\n",
              "       [    32, 135000],\n",
              "       [    32, 100000],\n",
              "       [    25,  90000],\n",
              "       [    37,  33000],\n",
              "       [    35,  38000],\n",
              "       [    33,  69000],\n",
              "       [    18,  86000],\n",
              "       [    22,  55000],\n",
              "       [    35,  71000],\n",
              "       [    29, 148000],\n",
              "       [    29,  47000],\n",
              "       [    21,  88000],\n",
              "       [    34, 115000],\n",
              "       [    26, 118000],\n",
              "       [    34,  43000],\n",
              "       [    34,  72000],\n",
              "       [    23,  28000],\n",
              "       [    35,  47000],\n",
              "       [    25,  22000],\n",
              "       [    24,  23000],\n",
              "       [    31,  34000],\n",
              "       [    26,  16000],\n",
              "       [    31,  71000],\n",
              "       [    32, 117000],\n",
              "       [    33,  43000],\n",
              "       [    33,  60000],\n",
              "       [    31,  66000],\n",
              "       [    20,  82000],\n",
              "       [    33,  41000],\n",
              "       [    35,  72000],\n",
              "       [    28,  32000],\n",
              "       [    24,  84000],\n",
              "       [    19,  26000],\n",
              "       [    29,  43000],\n",
              "       [    19,  70000],\n",
              "       [    28,  89000],\n",
              "       [    34,  43000],\n",
              "       [    30,  79000],\n",
              "       [    20,  36000],\n",
              "       [    26,  80000],\n",
              "       [    35,  22000],\n",
              "       [    35,  39000],\n",
              "       [    49,  74000],\n",
              "       [    39, 134000],\n",
              "       [    41,  71000],\n",
              "       [    58, 101000],\n",
              "       [    47,  47000],\n",
              "       [    55, 130000],\n",
              "       [    52, 114000],\n",
              "       [    40, 142000],\n",
              "       [    46,  22000],\n",
              "       [    48,  96000],\n",
              "       [    52, 150000],\n",
              "       [    59,  42000],\n",
              "       [    35,  58000],\n",
              "       [    47,  43000],\n",
              "       [    60, 108000],\n",
              "       [    49,  65000],\n",
              "       [    40,  78000],\n",
              "       [    46,  96000],\n",
              "       [    59, 143000],\n",
              "       [    41,  80000],\n",
              "       [    35,  91000],\n",
              "       [    37, 144000],\n",
              "       [    60, 102000],\n",
              "       [    35,  60000],\n",
              "       [    37,  53000],\n",
              "       [    36, 126000],\n",
              "       [    56, 133000],\n",
              "       [    40,  72000],\n",
              "       [    42,  80000],\n",
              "       [    35, 147000],\n",
              "       [    39,  42000],\n",
              "       [    40, 107000],\n",
              "       [    49,  86000],\n",
              "       [    38, 112000],\n",
              "       [    46,  79000],\n",
              "       [    40,  57000],\n",
              "       [    37,  80000],\n",
              "       [    46,  82000],\n",
              "       [    53, 143000],\n",
              "       [    42, 149000],\n",
              "       [    38,  59000],\n",
              "       [    50,  88000],\n",
              "       [    56, 104000],\n",
              "       [    41,  72000],\n",
              "       [    51, 146000],\n",
              "       [    35,  50000],\n",
              "       [    57, 122000],\n",
              "       [    41,  52000],\n",
              "       [    35,  97000],\n",
              "       [    44,  39000],\n",
              "       [    37,  52000],\n",
              "       [    48, 134000],\n",
              "       [    37, 146000],\n",
              "       [    50,  44000],\n",
              "       [    52,  90000],\n",
              "       [    41,  72000],\n",
              "       [    40,  57000],\n",
              "       [    58,  95000],\n",
              "       [    45, 131000],\n",
              "       [    35,  77000],\n",
              "       [    36, 144000],\n",
              "       [    55, 125000],\n",
              "       [    35,  72000],\n",
              "       [    48,  90000],\n",
              "       [    42, 108000],\n",
              "       [    40,  75000],\n",
              "       [    37,  74000],\n",
              "       [    47, 144000],\n",
              "       [    40,  61000],\n",
              "       [    43, 133000],\n",
              "       [    59,  76000],\n",
              "       [    60,  42000],\n",
              "       [    39, 106000],\n",
              "       [    57,  26000],\n",
              "       [    57,  74000],\n",
              "       [    38,  71000],\n",
              "       [    49,  88000],\n",
              "       [    52,  38000],\n",
              "       [    50,  36000],\n",
              "       [    59,  88000],\n",
              "       [    35,  61000],\n",
              "       [    37,  70000],\n",
              "       [    52,  21000],\n",
              "       [    48, 141000],\n",
              "       [    37,  93000],\n",
              "       [    37,  62000],\n",
              "       [    48, 138000],\n",
              "       [    41,  79000],\n",
              "       [    37,  78000],\n",
              "       [    39, 134000],\n",
              "       [    49,  89000],\n",
              "       [    55,  39000],\n",
              "       [    37,  77000],\n",
              "       [    35,  57000],\n",
              "       [    36,  63000],\n",
              "       [    42,  73000],\n",
              "       [    43, 112000],\n",
              "       [    45,  79000],\n",
              "       [    46, 117000],\n",
              "       [    58,  38000],\n",
              "       [    48,  74000],\n",
              "       [    37, 137000],\n",
              "       [    37,  79000],\n",
              "       [    40,  60000],\n",
              "       [    42,  54000],\n",
              "       [    51, 134000],\n",
              "       [    47, 113000],\n",
              "       [    36, 125000],\n",
              "       [    38,  50000],\n",
              "       [    42,  70000],\n",
              "       [    39,  96000],\n",
              "       [    38,  50000],\n",
              "       [    49, 141000],\n",
              "       [    39,  79000],\n",
              "       [    39,  75000],\n",
              "       [    54, 104000],\n",
              "       [    35,  55000],\n",
              "       [    45,  32000],\n",
              "       [    36,  60000],\n",
              "       [    52, 138000],\n",
              "       [    53,  82000],\n",
              "       [    41,  52000],\n",
              "       [    48,  30000],\n",
              "       [    48, 131000],\n",
              "       [    41,  60000],\n",
              "       [    41,  72000],\n",
              "       [    42,  75000],\n",
              "       [    36, 118000],\n",
              "       [    47, 107000],\n",
              "       [    38,  51000],\n",
              "       [    48, 119000],\n",
              "       [    42,  65000],\n",
              "       [    40,  65000],\n",
              "       [    57,  60000],\n",
              "       [    36,  54000],\n",
              "       [    58, 144000],\n",
              "       [    35,  79000],\n",
              "       [    38,  55000],\n",
              "       [    39, 122000],\n",
              "       [    53, 104000],\n",
              "       [    35,  75000],\n",
              "       [    38,  65000],\n",
              "       [    47,  51000],\n",
              "       [    47, 105000],\n",
              "       [    41,  63000],\n",
              "       [    53,  72000],\n",
              "       [    54, 108000],\n",
              "       [    39,  77000],\n",
              "       [    38,  61000],\n",
              "       [    38, 113000],\n",
              "       [    37,  75000],\n",
              "       [    42,  90000],\n",
              "       [    37,  57000],\n",
              "       [    36,  99000],\n",
              "       [    60,  34000],\n",
              "       [    54,  70000],\n",
              "       [    41,  72000],\n",
              "       [    40,  71000],\n",
              "       [    42,  54000],\n",
              "       [    43, 129000],\n",
              "       [    53,  34000],\n",
              "       [    47,  50000],\n",
              "       [    42,  79000],\n",
              "       [    42, 104000],\n",
              "       [    59,  29000],\n",
              "       [    58,  47000],\n",
              "       [    46,  88000],\n",
              "       [    38,  71000],\n",
              "       [    54,  26000],\n",
              "       [    60,  46000],\n",
              "       [    60,  83000],\n",
              "       [    39,  73000],\n",
              "       [    59, 130000],\n",
              "       [    37,  80000],\n",
              "       [    46,  32000],\n",
              "       [    46,  74000],\n",
              "       [    42,  53000],\n",
              "       [    41,  87000],\n",
              "       [    58,  23000],\n",
              "       [    42,  64000],\n",
              "       [    48,  33000],\n",
              "       [    44, 139000],\n",
              "       [    49,  28000],\n",
              "       [    57,  33000],\n",
              "       [    56,  60000],\n",
              "       [    49,  39000],\n",
              "       [    39,  71000],\n",
              "       [    47,  34000],\n",
              "       [    48,  35000],\n",
              "       [    48,  33000],\n",
              "       [    47,  23000],\n",
              "       [    45,  45000],\n",
              "       [    60,  42000],\n",
              "       [    39,  59000],\n",
              "       [    46,  41000],\n",
              "       [    51,  23000],\n",
              "       [    50,  20000],\n",
              "       [    36,  33000],\n",
              "       [    49,  36000],\n",
              "       [    19,  19000],\n",
              "       [    35,  20000],\n",
              "       [    26,  43000],\n",
              "       [    27,  57000],\n",
              "       [    19,  76000],\n",
              "       [    27,  58000],\n",
              "       [    27,  84000],\n",
              "       [    32, 150000],\n",
              "       [    25,  33000],\n",
              "       [    35,  65000],\n",
              "       [    26,  80000],\n",
              "       [    26,  52000],\n",
              "       [    20,  86000],\n",
              "       [    32,  18000]])"
            ]
          },
          "metadata": {},
          "execution_count": 6
        }
      ]
    },
    {
      "cell_type": "code",
      "source": [
        "# output / dependent variable\n",
        "Y=dataset.iloc[:,-1].values\n",
        "Y"
      ],
      "metadata": {
        "colab": {
          "base_uri": "https://localhost:8080/"
        },
        "id": "Big7kzub_x_D",
        "outputId": "2f544ba3-503d-47bf-cc52-b500fec6b76c"
      },
      "execution_count": 7,
      "outputs": [
        {
          "output_type": "execute_result",
          "data": {
            "text/plain": [
              "array([0, 0, 1, 1, 1, 1, 1, 1, 1, 1, 1, 1, 1, 1, 0, 0, 0, 1, 0, 0, 0, 0,\n",
              "       0, 0, 0, 0, 0, 0, 0, 0, 0, 0, 0, 0, 1, 0, 0, 0, 0, 0, 0, 0, 0, 0,\n",
              "       0, 0, 0, 0, 0, 1, 0, 0, 0, 0, 0, 0, 0, 0, 0, 0, 0, 1, 0, 0, 0, 0,\n",
              "       0, 0, 0, 0, 0, 1, 0, 0, 0, 0, 0, 0, 0, 0, 0, 0, 0, 1, 0, 0, 0, 0,\n",
              "       0, 1, 0, 0, 0, 0, 0, 0, 0, 0, 0, 0, 0, 0, 0, 0, 0, 0, 0, 0, 0, 0,\n",
              "       0, 0, 0, 0, 0, 0, 0, 0, 0, 0, 0, 0, 0, 1, 0, 0, 0, 0, 0, 0, 0, 0,\n",
              "       1, 0, 0, 0, 0, 0, 0, 0, 0, 0, 0, 0, 0, 1, 1, 0, 0, 0, 0, 0, 0, 0,\n",
              "       1, 0, 0, 0, 0, 0, 0, 0, 0, 0, 0, 0, 0, 0, 1, 0, 0, 0, 0, 0, 0, 0,\n",
              "       0, 0, 0, 0, 0, 0, 0, 0, 0, 0, 0, 0, 1, 0, 1, 0, 1, 0, 1, 0, 1, 1,\n",
              "       0, 0, 0, 1, 0, 0, 0, 1, 0, 1, 1, 1, 0, 0, 1, 1, 0, 1, 1, 0, 1, 1,\n",
              "       0, 1, 0, 0, 0, 1, 1, 0, 1, 1, 0, 1, 0, 1, 0, 1, 0, 0, 1, 1, 0, 1,\n",
              "       0, 0, 1, 1, 0, 1, 1, 0, 1, 1, 0, 0, 1, 0, 0, 1, 1, 1, 1, 1, 0, 1,\n",
              "       1, 1, 1, 0, 1, 1, 0, 1, 0, 1, 0, 1, 1, 1, 1, 0, 0, 0, 1, 1, 0, 1,\n",
              "       1, 1, 1, 1, 0, 0, 0, 1, 1, 0, 0, 1, 0, 1, 0, 1, 1, 0, 1, 0, 1, 1,\n",
              "       0, 1, 1, 0, 0, 0, 1, 1, 0, 1, 0, 0, 1, 0, 1, 0, 0, 1, 1, 0, 0, 1,\n",
              "       1, 0, 1, 1, 0, 0, 1, 0, 1, 0, 1, 1, 1, 0, 1, 0, 1, 1, 1, 0, 1, 1,\n",
              "       1, 1, 0, 1, 1, 1, 0, 1, 0, 1, 0, 0, 1, 1, 0, 1, 1, 1, 1, 1, 1, 0,\n",
              "       1, 1, 1, 1, 1, 1, 0, 1, 1, 1, 0, 1, 0, 0, 0, 0, 0, 0, 0, 1, 0, 0,\n",
              "       0, 0, 0, 0])"
            ]
          },
          "metadata": {},
          "execution_count": 7
        }
      ]
    },
    {
      "cell_type": "code",
      "source": [
        "from sklearn.model_selection import train_test_split\n",
        "x_train,x_test,y_train,y_test = train_test_split(X,Y, test_size=0.25,random_state=0)\n"
      ],
      "metadata": {
        "id": "H0eEByGF_x8t"
      },
      "execution_count": 8,
      "outputs": []
    },
    {
      "cell_type": "code",
      "source": [
        "#Feature scaling - scale data so all features contribute equally to the result otherwise weightage will be given to features with higher magnitude.\n",
        "#standardization / normalisation\n",
        "from sklearn.preprocessing import StandardScaler\n",
        "sc= StandardScaler()\n",
        "x_train = sc.fit_transform(x_train)\n",
        "x_test = sc.transform(x_test)\n",
        "print(x_train)"
      ],
      "metadata": {
        "colab": {
          "base_uri": "https://localhost:8080/"
        },
        "id": "tVYsaXcx_x4i",
        "outputId": "e1d745b2-8adc-49b5-ee16-d5e2658b6a42"
      },
      "execution_count": 9,
      "outputs": [
        {
          "output_type": "stream",
          "name": "stdout",
          "text": [
            "[[ 0.97446763  0.56400811]\n",
            " [-1.52088611 -1.28151705]\n",
            " [ 0.30264162  0.03671521]\n",
            " [-0.36918439 -0.81281224]\n",
            " [ 0.49459191  1.20847722]\n",
            " [-0.1772341   0.82765456]\n",
            " [-0.27320924 -0.78351819]\n",
            " [ 0.39861676  0.24177356]\n",
            " [-0.27320924  0.00742116]\n",
            " [ 0.01471619 -0.60775389]\n",
            " [ 0.11069133  0.00742116]\n",
            " [-0.46515953  2.29235707]\n",
            " [ 0.39861676 -0.02187289]\n",
            " [-0.27320924 -1.28151705]\n",
            " [ 1.93421906 -1.39869325]\n",
            " [-0.27320924  2.23376897]\n",
            " [ 0.11069133  1.03271291]\n",
            " [-0.56113467  1.44282962]\n",
            " [ 0.97446763  1.85294632]\n",
            " [ 0.30264162  0.03671521]\n",
            " [-1.13698554 -1.04716465]\n",
            " [-0.08125895  0.27106761]\n",
            " [ 0.30264162 -0.54916579]\n",
            " [-0.27320924 -0.60775389]\n",
            " [ 0.87849248 -1.39869325]\n",
            " [ 0.78251734 -0.34410744]\n",
            " [-0.46515953 -1.252223  ]\n",
            " [ 0.20666648  0.12459736]\n",
            " [ 0.39861676  0.97412481]\n",
            " [-0.56113467  1.35494747]\n",
            " [-0.46515953 -0.05116694]\n",
            " [-0.56113467  2.32165112]\n",
            " [-0.75308496  0.27106761]\n",
            " [ 1.16641791 -0.78351819]\n",
            " [ 0.20666648  1.06200696]\n",
            " [ 0.20666648 -0.40269554]\n",
            " [ 0.30264162 -0.31481339]\n",
            " [ 0.20666648  2.08729872]\n",
            " [ 1.45434334  0.97412481]\n",
            " [-1.04101039  1.94082847]\n",
            " [-1.32893582 -1.39869325]\n",
            " [-0.27320924 -0.92998845]\n",
            " [-0.94503525  0.38824381]\n",
            " [-0.75308496 -1.57445755]\n",
            " [ 1.07044277  0.50542001]\n",
            " [-0.1772341  -0.54916579]\n",
            " [ 0.11069133  0.06600926]\n",
            " [ 0.68654219  1.76506417]\n",
            " [-0.27320924  0.76906646]\n",
            " [-0.65710982 -0.37340149]\n",
            " [ 0.87849248  1.00341886]\n",
            " [-0.94503525 -0.46128364]\n",
            " [-0.08125895  0.24177356]\n",
            " [ 0.39861676 -0.16834314]\n",
            " [ 0.39861676  0.27106761]\n",
            " [-1.13698554 -1.63304565]\n",
            " [-0.08125895  0.21247951]\n",
            " [-1.80881154  0.41753786]\n",
            " [ 2.03019421 -0.84210629]\n",
            " [ 1.07044277  2.05800467]\n",
            " [-0.1772341  -0.22693124]\n",
            " [ 0.30264162 -1.1936349 ]\n",
            " [-1.04101039 -0.49057769]\n",
            " [ 0.68654219 -0.75422414]\n",
            " [-0.27320924 -0.69563604]\n",
            " [-0.75308496  1.88224037]\n",
            " [ 1.26239306  2.20447492]\n",
            " [-0.08125895  0.00742116]\n",
            " [-0.94503525 -0.98857655]\n",
            " [-0.36918439  1.20847722]\n",
            " [-0.65710982  0.00742116]\n",
            " [ 0.39861676  0.06600926]\n",
            " [ 0.87849248 -0.81281224]\n",
            " [-1.04101039 -0.37340149]\n",
            " [ 0.30264162  0.03671521]\n",
            " [ 0.97446763  0.09530331]\n",
            " [ 0.20666648  0.12459736]\n",
            " [-1.04101039 -1.4865754 ]\n",
            " [ 1.83824392 -0.31481339]\n",
            " [-1.13698554  0.27106761]\n",
            " [ 0.78251734  0.32965571]\n",
            " [-0.94503525  0.41753786]\n",
            " [ 0.30264162 -0.75422414]\n",
            " [ 0.78251734 -0.87140035]\n",
            " [ 0.01471619  1.20847722]\n",
            " [-0.27320924 -0.31481339]\n",
            " [-0.75308496 -1.63304565]\n",
            " [-0.36918439 -0.81281224]\n",
            " [-0.08125895  0.27106761]\n",
            " [-0.08125895  0.65189026]\n",
            " [-1.32893582 -0.37340149]\n",
            " [ 0.01471619 -0.16834314]\n",
            " [ 1.93421906 -0.69563604]\n",
            " [-0.46515953 -0.57845984]\n",
            " [ 0.87849248 -1.34010515]\n",
            " [ 0.11069133 -0.84210629]\n",
            " [-1.61686125  0.50542001]\n",
            " [-0.1772341   1.61859392]\n",
            " [ 0.97446763 -1.10575275]\n",
            " [ 0.78251734  0.24177356]\n",
            " [-0.65710982  0.15389141]\n",
            " [ 0.59056705 -0.92998845]\n",
            " [ 1.07044277  0.44683191]\n",
            " [ 0.30264162  0.24177356]\n",
            " [ 1.64629363 -0.92998845]\n",
            " [ 1.45434334  0.32965571]\n",
            " [-0.08125895  2.20447492]\n",
            " [-0.65710982  0.53471406]\n",
            " [ 0.78251734  0.73977241]\n",
            " [-1.04101039  0.38824381]\n",
            " [ 0.11069133 -0.84210629]\n",
            " [-1.13698554  0.03671521]\n",
            " [ 1.45434334  0.03671521]\n",
            " [-1.52088611 -1.5451635 ]\n",
            " [ 1.3583682   0.56400811]\n",
            " [-0.75308496  0.53471406]\n",
            " [-1.04101039  0.53471406]\n",
            " [ 0.11069133 -0.28551934]\n",
            " [-1.13698554 -1.6037516 ]\n",
            " [-1.04101039 -0.40269554]\n",
            " [ 1.16641791 -1.4865754 ]\n",
            " [ 1.55031849 -0.02187289]\n",
            " [-1.04101039 -0.37340149]\n",
            " [-1.61686125 -1.6037516 ]\n",
            " [ 0.68654219  0.24177356]\n",
            " [-0.8490601  -1.252223  ]\n",
            " [-0.27320924  0.03671521]\n",
            " [-1.23296068 -1.10575275]\n",
            " [-0.65710982  1.38424152]\n",
            " [ 0.87849248 -1.1936349 ]\n",
            " [ 0.97446763 -1.10575275]\n",
            " [ 1.74226877  1.82365227]\n",
            " [ 1.07044277 -1.0178706 ]\n",
            " [-1.13698554 -0.81281224]\n",
            " [ 1.16641791  0.50542001]\n",
            " [-0.36918439  0.03671521]\n",
            " [ 0.20666648 -0.34410744]\n",
            " [-1.42491097 -1.252223  ]\n",
            " [-0.94503525  1.53071177]\n",
            " [ 0.30264162  0.00742116]\n",
            " [-1.13698554 -0.54916579]\n",
            " [-0.75308496  0.47612596]\n",
            " [ 0.87849248  2.14588682]\n",
            " [ 0.11069133  1.85294632]\n",
            " [-0.08125895  2.14588682]\n",
            " [ 0.97446763 -1.04716465]\n",
            " [ 0.30264162 -0.57845984]\n",
            " [-0.27320924 -0.9592825 ]\n",
            " [-0.36918439  1.29635937]\n",
            " [-1.52088611 -0.46128364]\n",
            " [-0.65710982  0.09530331]\n",
            " [ 1.3583682  -1.45728135]\n",
            " [-0.27320924 -0.60775389]\n",
            " [-0.27320924 -0.51987174]\n",
            " [-0.27320924  0.12459736]\n",
            " [ 2.03019421  2.11659277]\n",
            " [ 0.87849248  1.06200696]\n",
            " [-0.1772341  -0.60775389]\n",
            " [-0.08125895 -0.54916579]\n",
            " [ 0.20666648 -0.16834314]\n",
            " [ 1.64629363  1.58929987]\n",
            " [ 0.30264162 -0.54916579]\n",
            " [-0.94503525 -0.78351819]\n",
            " [ 0.39861676  2.29235707]\n",
            " [ 1.3583682   1.97012252]\n",
            " [ 0.68654219 -1.3108111 ]\n",
            " [ 0.11069133  1.85294632]\n",
            " [-1.80881154 -1.34010515]\n",
            " [-0.75308496  1.32565342]\n",
            " [-1.13698554  0.27106761]\n",
            " [ 0.11069133  0.12459736]\n",
            " [ 2.12616935 -0.84210629]\n",
            " [ 0.49459191  1.70647607]\n",
            " [-0.75308496  0.24177356]\n",
            " [ 2.12616935 -0.72493009]\n",
            " [-0.8490601   0.35894976]\n",
            " [ 2.12616935 -0.84210629]\n",
            " [ 0.87849248 -1.4865754 ]\n",
            " [ 0.01471619 -0.60775389]\n",
            " [-1.04101039  0.50542001]\n",
            " [ 2.03019421  0.50542001]\n",
            " [-1.32893582 -1.1350468 ]\n",
            " [ 1.26239306 -1.39869325]\n",
            " [-1.7128364  -1.39869325]\n",
            " [-1.32893582 -0.46128364]\n",
            " [ 0.97446763  2.05800467]\n",
            " [ 2.03019421  0.35894976]\n",
            " [ 2.12616935  0.91553671]\n",
            " [ 0.97446763  1.41353557]\n",
            " [ 0.01471619 -0.57845984]\n",
            " [ 0.30264162 -0.22693124]\n",
            " [-0.75308496  1.06200696]\n",
            " [ 0.20666648 -0.40269554]\n",
            " [-1.90478668 -0.54916579]\n",
            " [ 1.55031849  0.97412481]\n",
            " [-0.36918439 -1.34010515]\n",
            " [ 1.07044277  0.09530331]\n",
            " [-0.75308496 -0.63704794]\n",
            " [-0.94503525  0.24177356]\n",
            " [-1.90478668  0.32965571]\n",
            " [ 2.12616935  1.09130101]\n",
            " [-0.08125895 -0.40269554]\n",
            " [ 0.01471619 -0.28551934]\n",
            " [-0.27320924 -1.4865754 ]\n",
            " [-0.8490601  -0.81281224]\n",
            " [ 0.49459191  1.82365227]\n",
            " [-1.13698554  0.44683191]\n",
            " [ 1.07044277 -1.252223  ]\n",
            " [ 0.01471619  0.27106761]\n",
            " [ 2.03019421 -1.22292895]\n",
            " [-0.46515953 -0.81281224]\n",
            " [-0.27320924  0.50542001]\n",
            " [-0.1772341  -0.31481339]\n",
            " [-1.42491097 -0.13904909]\n",
            " [-0.27320924  0.59330216]\n",
            " [-0.08125895  0.18318546]\n",
            " [ 0.01471619 -0.34410744]\n",
            " [-0.08125895 -1.10575275]\n",
            " [-0.8490601   0.12459736]\n",
            " [-0.94503525  0.53471406]\n",
            " [-1.32893582  0.53471406]\n",
            " [ 2.12616935  0.35894976]\n",
            " [-1.7128364   0.44683191]\n",
            " [ 0.01471619  0.00742116]\n",
            " [ 0.01471619 -0.46128364]\n",
            " [ 0.20666648  0.21247951]\n",
            " [-0.27320924  0.06600926]\n",
            " [-1.42491097 -0.22693124]\n",
            " [ 0.39861676 -0.49057769]\n",
            " [ 0.39861676 -0.19763719]\n",
            " [-1.61686125  0.03671521]\n",
            " [-0.27320924 -1.34010515]\n",
            " [-0.27320924 -0.28551934]\n",
            " [-1.61686125 -0.08046099]\n",
            " [ 0.39861676 -0.49057769]\n",
            " [-1.32893582 -1.28151705]\n",
            " [-0.1772341  -0.49057769]\n",
            " [ 2.03019421  0.15389141]\n",
            " [ 1.55031849 -1.3108111 ]\n",
            " [-1.42491097 -0.66634199]\n",
            " [ 0.30264162 -0.34410744]\n",
            " [ 0.59056705  1.99941657]\n",
            " [ 0.97446763  1.97012252]\n",
            " [ 0.78251734  0.50542001]\n",
            " [-0.8490601   0.35894976]\n",
            " [-1.42491097  0.32965571]\n",
            " [ 1.45434334 -1.0764587 ]\n",
            " [-0.27320924 -0.34410744]\n",
            " [ 0.20666648 -0.31481339]\n",
            " [-0.27320924  1.09130101]\n",
            " [-1.7128364  -1.0178706 ]\n",
            " [-1.23296068 -1.4279873 ]\n",
            " [-1.90478668  0.44683191]\n",
            " [ 1.93421906  0.71047836]\n",
            " [ 1.07044277 -0.16834314]\n",
            " [-1.42491097 -1.4865754 ]\n",
            " [-1.23296068  0.24177356]\n",
            " [-1.90478668 -0.08046099]\n",
            " [-0.27320924 -1.4279873 ]\n",
            " [ 1.07044277 -0.92998845]\n",
            " [-0.08125895  1.94082847]\n",
            " [ 0.78251734  0.09530331]\n",
            " [-1.23296068  0.56400811]\n",
            " [ 0.78251734  1.35494747]\n",
            " [ 1.83824392 -1.10575275]\n",
            " [-1.80881154 -1.3108111 ]\n",
            " [-0.08125895 -0.46128364]\n",
            " [ 0.39861676  0.56400811]\n",
            " [ 0.01471619 -0.28551934]\n",
            " [ 1.3583682   2.32165112]\n",
            " [ 0.20666648 -0.40269554]\n",
            " [-1.13698554  0.38824381]\n",
            " [ 1.16641791 -1.0178706 ]\n",
            " [-1.32893582 -0.46128364]\n",
            " [ 1.55031849  1.09130101]\n",
            " [-1.04101039 -1.16434085]\n",
            " [-0.65710982 -1.0764587 ]\n",
            " [-0.08125895  0.12459736]\n",
            " [-0.1772341  -1.10575275]\n",
            " [-0.27320924  0.03671521]\n",
            " [-1.80881154 -1.51586945]\n",
            " [-0.27320924 -1.39869325]\n",
            " [ 1.3583682   1.26706532]\n",
            " [-0.1772341   1.38424152]\n",
            " [-0.56113467  0.44683191]\n",
            " [-0.75308496 -0.25622529]\n",
            " [-0.94503525 -0.34410744]\n",
            " [ 1.26239306  1.85294632]\n",
            " [ 0.30264162  0.03671521]\n",
            " [ 1.07044277  0.53471406]\n",
            " [-0.08125895 -0.51987174]\n",
            " [ 0.68654219 -1.4279873 ]\n",
            " [ 2.03019421  1.73577012]\n",
            " [ 0.78251734 -1.4279873 ]\n",
            " [ 0.39861676  1.09130101]\n",
            " [-0.27320924  0.24177356]\n",
            " [ 1.64629363  1.73577012]\n",
            " [-0.46515953 -1.16434085]\n",
            " [-1.23296068  0.47612596]\n",
            " [-1.7128364   0.32965571]]\n"
          ]
        }
      ]
    },
    {
      "cell_type": "code",
      "source": [
        "#training\n",
        "from sklearn.linear_model import LogisticRegression\n",
        "model = LogisticRegression()\n",
        "model.fit(x_train , y_train)"
      ],
      "metadata": {
        "colab": {
          "base_uri": "https://localhost:8080/",
          "height": 74
        },
        "id": "pVmmFq-W_x2l",
        "outputId": "67beb774-275d-459f-d600-43f19565141d"
      },
      "execution_count": 10,
      "outputs": [
        {
          "output_type": "execute_result",
          "data": {
            "text/plain": [
              "LogisticRegression()"
            ],
            "text/html": [
              "<style>#sk-container-id-1 {color: black;background-color: white;}#sk-container-id-1 pre{padding: 0;}#sk-container-id-1 div.sk-toggleable {background-color: white;}#sk-container-id-1 label.sk-toggleable__label {cursor: pointer;display: block;width: 100%;margin-bottom: 0;padding: 0.3em;box-sizing: border-box;text-align: center;}#sk-container-id-1 label.sk-toggleable__label-arrow:before {content: \"▸\";float: left;margin-right: 0.25em;color: #696969;}#sk-container-id-1 label.sk-toggleable__label-arrow:hover:before {color: black;}#sk-container-id-1 div.sk-estimator:hover label.sk-toggleable__label-arrow:before {color: black;}#sk-container-id-1 div.sk-toggleable__content {max-height: 0;max-width: 0;overflow: hidden;text-align: left;background-color: #f0f8ff;}#sk-container-id-1 div.sk-toggleable__content pre {margin: 0.2em;color: black;border-radius: 0.25em;background-color: #f0f8ff;}#sk-container-id-1 input.sk-toggleable__control:checked~div.sk-toggleable__content {max-height: 200px;max-width: 100%;overflow: auto;}#sk-container-id-1 input.sk-toggleable__control:checked~label.sk-toggleable__label-arrow:before {content: \"▾\";}#sk-container-id-1 div.sk-estimator input.sk-toggleable__control:checked~label.sk-toggleable__label {background-color: #d4ebff;}#sk-container-id-1 div.sk-label input.sk-toggleable__control:checked~label.sk-toggleable__label {background-color: #d4ebff;}#sk-container-id-1 input.sk-hidden--visually {border: 0;clip: rect(1px 1px 1px 1px);clip: rect(1px, 1px, 1px, 1px);height: 1px;margin: -1px;overflow: hidden;padding: 0;position: absolute;width: 1px;}#sk-container-id-1 div.sk-estimator {font-family: monospace;background-color: #f0f8ff;border: 1px dotted black;border-radius: 0.25em;box-sizing: border-box;margin-bottom: 0.5em;}#sk-container-id-1 div.sk-estimator:hover {background-color: #d4ebff;}#sk-container-id-1 div.sk-parallel-item::after {content: \"\";width: 100%;border-bottom: 1px solid gray;flex-grow: 1;}#sk-container-id-1 div.sk-label:hover label.sk-toggleable__label {background-color: #d4ebff;}#sk-container-id-1 div.sk-serial::before {content: \"\";position: absolute;border-left: 1px solid gray;box-sizing: border-box;top: 0;bottom: 0;left: 50%;z-index: 0;}#sk-container-id-1 div.sk-serial {display: flex;flex-direction: column;align-items: center;background-color: white;padding-right: 0.2em;padding-left: 0.2em;position: relative;}#sk-container-id-1 div.sk-item {position: relative;z-index: 1;}#sk-container-id-1 div.sk-parallel {display: flex;align-items: stretch;justify-content: center;background-color: white;position: relative;}#sk-container-id-1 div.sk-item::before, #sk-container-id-1 div.sk-parallel-item::before {content: \"\";position: absolute;border-left: 1px solid gray;box-sizing: border-box;top: 0;bottom: 0;left: 50%;z-index: -1;}#sk-container-id-1 div.sk-parallel-item {display: flex;flex-direction: column;z-index: 1;position: relative;background-color: white;}#sk-container-id-1 div.sk-parallel-item:first-child::after {align-self: flex-end;width: 50%;}#sk-container-id-1 div.sk-parallel-item:last-child::after {align-self: flex-start;width: 50%;}#sk-container-id-1 div.sk-parallel-item:only-child::after {width: 0;}#sk-container-id-1 div.sk-dashed-wrapped {border: 1px dashed gray;margin: 0 0.4em 0.5em 0.4em;box-sizing: border-box;padding-bottom: 0.4em;background-color: white;}#sk-container-id-1 div.sk-label label {font-family: monospace;font-weight: bold;display: inline-block;line-height: 1.2em;}#sk-container-id-1 div.sk-label-container {text-align: center;}#sk-container-id-1 div.sk-container {/* jupyter's `normalize.less` sets `[hidden] { display: none; }` but bootstrap.min.css set `[hidden] { display: none !important; }` so we also need the `!important` here to be able to override the default hidden behavior on the sphinx rendered scikit-learn.org. See: https://github.com/scikit-learn/scikit-learn/issues/21755 */display: inline-block !important;position: relative;}#sk-container-id-1 div.sk-text-repr-fallback {display: none;}</style><div id=\"sk-container-id-1\" class=\"sk-top-container\"><div class=\"sk-text-repr-fallback\"><pre>LogisticRegression()</pre><b>In a Jupyter environment, please rerun this cell to show the HTML representation or trust the notebook. <br />On GitHub, the HTML representation is unable to render, please try loading this page with nbviewer.org.</b></div><div class=\"sk-container\" hidden><div class=\"sk-item\"><div class=\"sk-estimator sk-toggleable\"><input class=\"sk-toggleable__control sk-hidden--visually\" id=\"sk-estimator-id-1\" type=\"checkbox\" checked><label for=\"sk-estimator-id-1\" class=\"sk-toggleable__label sk-toggleable__label-arrow\">LogisticRegression</label><div class=\"sk-toggleable__content\"><pre>LogisticRegression()</pre></div></div></div></div></div>"
            ]
          },
          "metadata": {},
          "execution_count": 10
        }
      ]
    },
    {
      "cell_type": "code",
      "source": [
        "y_pred = model.predict(x_test)"
      ],
      "metadata": {
        "id": "JdFqYEvI_xwq"
      },
      "execution_count": 11,
      "outputs": []
    },
    {
      "cell_type": "code",
      "source": [
        "from sklearn.metrics import accuracy_score\n",
        "print(\"Accuracy of model: {0}%\".format(accuracy_score(y_test,y_pred)*100))"
      ],
      "metadata": {
        "colab": {
          "base_uri": "https://localhost:8080/"
        },
        "id": "HgCi3JUh_xoO",
        "outputId": "49bd1e75-23a8-435b-e311-dadba26d0da4"
      },
      "execution_count": 12,
      "outputs": [
        {
          "output_type": "stream",
          "name": "stdout",
          "text": [
            "Accuracy of model: 80.0%\n"
          ]
        }
      ]
    },
    {
      "cell_type": "code",
      "source": [
        "age = int(input(\"Enter new customer's age:\"))\n",
        "sal = int(input(\"Enter new customer's salary\"))\n",
        "newCust=[[age,sal]]\n",
        "result=model.predict(sc.transform(newCust))\n",
        "print(result)\n",
        "if(result==1):\n",
        "  print(\"Customer will buy\")\n",
        "else:\n",
        "  print(\"Customer will not buy\")\n"
      ],
      "metadata": {
        "colab": {
          "base_uri": "https://localhost:8080/"
        },
        "id": "h44cMGMq_xyk",
        "outputId": "f2ead77b-9ba5-4a65-a210-9a72b8d343a0"
      },
      "execution_count": 13,
      "outputs": [
        {
          "output_type": "stream",
          "name": "stdout",
          "text": [
            "Enter new customer's age:30\n",
            "Enter new customer's salary60000\n",
            "[0]\n",
            "Customer will not buy\n"
          ]
        }
      ]
    },
    {
      "cell_type": "markdown",
      "source": [
        "## VALIDATING MODEL"
      ],
      "metadata": {
        "id": "8-sf8w-iKjlo"
      }
    },
    {
      "cell_type": "markdown",
      "source": [
        "Confusion matrix"
      ],
      "metadata": {
        "id": "KNiN0AlSMXHK"
      }
    },
    {
      "cell_type": "code",
      "source": [
        "from sklearn.metrics import confusion_matrix\n",
        "cm = confusion_matrix(y_test,y_pred)\n",
        "print(\"confusion matrix:\\n\" , cm)"
      ],
      "metadata": {
        "id": "Rnem44SqLod-",
        "outputId": "d1f203b2-0881-48ce-cfb3-0ce87d29ecde",
        "colab": {
          "base_uri": "https://localhost:8080/"
        }
      },
      "execution_count": 14,
      "outputs": [
        {
          "output_type": "stream",
          "name": "stdout",
          "text": [
            "confusion matrix:\n",
            " [[61  0]\n",
            " [20 19]]\n"
          ]
        }
      ]
    },
    {
      "cell_type": "markdown",
      "source": [
        "Accuracy score\n"
      ],
      "metadata": {
        "id": "9bTrvC6KpL2T"
      }
    },
    {
      "cell_type": "code",
      "source": [
        "from sklearn.metrics import accuracy_score\n",
        "print(\"Accuracy: {0}%\".format(accuracy_score(y_test,y_pred)*100))"
      ],
      "metadata": {
        "id": "tygQtiLFpOMT",
        "outputId": "f14d4b6e-bb9e-4d0e-f429-aec92f3da555",
        "colab": {
          "base_uri": "https://localhost:8080/"
        }
      },
      "execution_count": 15,
      "outputs": [
        {
          "output_type": "stream",
          "name": "stdout",
          "text": [
            "Accuracy: 80.0%\n"
          ]
        }
      ]
    },
    {
      "cell_type": "markdown",
      "source": [
        "Receiver operating curve - ROC"
      ],
      "metadata": {
        "id": "uxCH1JJ_p_aj"
      }
    },
    {
      "cell_type": "code",
      "source": [
        "from sklearn.metrics import roc_auc_score, roc_curve\n",
        "import matplotlib.pyplot as plt\n",
        "\n",
        "nsProbability = [0 for _ in range(len(y_test))]\n",
        "lsProbability = model.predict_proba(x_test)\n",
        "#keep probability for positive outcome only\n",
        "lsProbability = lsProbability[:,1]\n",
        "#calculate scores\n",
        "nsAUC = roc_auc_score(y_test, nsProbability)\n",
        "lsAUC = roc_auc_score(y_test, lsProbability)\n",
        "\n",
        "#summarize scores\n",
        "print('No skill: ROC AUC=%.3f' %(nsAUC*100))\n",
        "print('Logistic skill: ROC AUC=%.3f' %(lsAUC*100))\n",
        "\n",
        "#calculate roc curves\n",
        "nsFP, nsTP, _ = roc_curve(y_test, nsProbability)\n",
        "lrFP, lrTP, _ = roc_curve(y_test, lsProbability)\n",
        "\n",
        "#plot the roc curve for the model\n",
        "plt.plot(nsFP, nsTP, linestyle='--', label='No Skill')\n",
        "plt.plot(lrFP, lrTP, linestyle='dotted', label='Logistic')\n",
        "plt.xlabel('False Positive Rate')\n",
        "plt.ylabel('True Positive Rate')\n",
        "\n",
        "plt.legend()\n",
        "plt.show()\n"
      ],
      "metadata": {
        "id": "eheJwFN5qEKG",
        "outputId": "4b43f7e5-d449-444e-80f4-8ff45171628f",
        "colab": {
          "base_uri": "https://localhost:8080/",
          "height": 485
        }
      },
      "execution_count": 19,
      "outputs": [
        {
          "output_type": "stream",
          "name": "stdout",
          "text": [
            "No skill: ROC AUC=50.000\n",
            "Logistic skill: ROC AUC=92.980\n"
          ]
        },
        {
          "output_type": "display_data",
          "data": {
            "text/plain": [
              "<Figure size 640x480 with 1 Axes>"
            ],
            "image/png": "[encoded data removed]"
          },
          "metadata": {}
        }
      ]
    },
    {
      "cell_type": "markdown",
      "source": [
        "Cross Validation"
      ],
      "metadata": {
        "id": "wBy2ocT51xqm"
      }
    },
    {
      "cell_type": "code",
      "source": [
        "from sklearn.model_selection import cross_val_score\n",
        "from sklearn.model_selection import KFold\n",
        "kfold = KFold(n_splits=10, random_state=100, shuffle=True)\n",
        "result = cross_val_score(model, X, Y, cv=kfold)\n",
        "print(\"Cross validation score: %.2f%%\" %(result.mean()*100.0))"
      ],
      "metadata": {
        "id": "TUbDxTpk1xam",
        "outputId": "990a796a-de07-4bc1-c675-c3a74de827bc",
        "colab": {
          "base_uri": "https://localhost:8080/"
        }
      },
      "execution_count": 26,
      "outputs": [
        {
          "output_type": "stream",
          "name": "stdout",
          "text": [
            "Cross validation score: 64.25%\n"
          ]
        }
      ]
    },
    {
      "cell_type": "markdown",
      "source": [
        "Stratifield K-fold Cross Validation"
      ],
      "metadata": {
        "id": "QwpKuEXs2kAk"
      }
    },
    {
      "cell_type": "code",
      "source": [
        "from sklearn.model_selection import cross_val_score\n",
        "from sklearn.model_selection import StratifiedKFold\n",
        "skfold = StratifiedKFold(n_splits=3,random_state=100, shuffle=True)\n",
        "model_skfold = LogisticRegression()\n",
        "results_skfold = cross_val_score(model_skfold, X,Y, cv=skfold)\n",
        "print(\"Statifield K-Fold score: %.2f%%\" %(results_skfold.mean()*100))"
      ],
      "metadata": {
        "id": "jXvfuZ0k2js4",
        "outputId": "37400524-b5a1-4f06-9585-dada9377c232",
        "colab": {
          "base_uri": "https://localhost:8080/"
        }
      },
      "execution_count": 27,
      "outputs": [
        {
          "output_type": "stream",
          "name": "stdout",
          "text": [
            "Statifield K-Fold score: 64.25%\n"
          ]
        }
      ]
    },
    {
      "cell_type": "markdown",
      "source": [
        "Cumulative Accuracy Profile (CAP) curve"
      ],
      "metadata": {
        "id": "OWE6TJUG3ych"
      }
    },
    {
      "cell_type": "code",
      "source": [
        "import numpy as np\n",
        "\n",
        "total = len(y_test)\n",
        "class_1_count = np.sum(y_test)\n",
        "print(class_1_count)\n",
        "class_0_count = total - class_1_count\n",
        "plt.plot([0, total],[0,class_1_count],c = 'r', linestyle = '--', label= 'Random model')\n",
        "\n",
        "plt.plot([0,class_1_count, total],\n",
        "         [0, class_1_count, class_1_count],\n",
        "         c= 'grey',\n",
        "         linewidth = 2,\n",
        "         label= 'Perfect Model')\n",
        "\n",
        "probs = model.predict_proba(x_test)\n",
        "probs = probs[:,1]\n",
        "\n",
        "model_y = [y for _, y in sorted(zip(probs,y_test), reverse= True)]\n",
        "y_values = np.append([0],np.cumsum(model_y))\n",
        "x_values = np.arange(0, total+1)\n",
        "\n",
        "plt.plot(x_values, y_values, c='b', label='LR classifier', linewidth=4)\n",
        "\n",
        "index = int((50*total /100))\n",
        "\n",
        "plt.plot([index,index],[0, y_values[index]], c='g', linestyle='--')\n",
        "class_1_observed=y_values[index]* 100/max(y_values)\n",
        "plt.xlabel('Total observations')\n",
        "plt.ylabel('Class 1 observations')\n",
        "plt.title('Cumulative accuracy profile')\n",
        "plt.legend(loc= 'lower right')"
      ],
      "metadata": {
        "id": "qSWGi3kt36SO",
        "outputId": "a3052acb-2107-43ae-e1f5-564fc23f2ffc",
        "colab": {
          "base_uri": "https://localhost:8080/",
          "height": 508
        }
      },
      "execution_count": 29,
      "outputs": [
        {
          "output_type": "stream",
          "name": "stdout",
          "text": [
            "39\n"
          ]
        },
        {
          "output_type": "execute_result",
          "data": {
            "text/plain": [
              "<matplotlib.legend.Legend at 0x7959e0d5e500>"
            ]
          },
          "metadata": {},
          "execution_count": 29
        },
        {
          "output_type": "display_data",
          "data": {
            "text/plain": [
              "<Figure size 640x480 with 1 Axes>"
            ],
            "image/png": "[encoded data removed]"
          },
          "metadata": {}
        }
      ]
    }
  ]
}